{
  "nbformat": 4,
  "nbformat_minor": 0,
  "metadata": {
    "colab": {
      "provenance": []
    },
    "kernelspec": {
      "name": "python3",
      "display_name": "Python 3"
    },
    "language_info": {
      "name": "python"
    }
  },
  "cells": [
    {
      "cell_type": "markdown",
      "source": [
        "PART 1"
      ],
      "metadata": {
        "id": "d6zBcNCMpgye"
      }
    },
    {
      "cell_type": "code",
      "execution_count": 2,
      "metadata": {
        "colab": {
          "base_uri": "https://localhost:8080/"
        },
        "id": "vBFmGpU0pfNW",
        "outputId": "5591bd2d-f4e9-4ad4-de7a-7ddd9e2f9512"
      },
      "outputs": [
        {
          "output_type": "stream",
          "name": "stdout",
          "text": [
            "weights of hidden layers:\n",
            " [[3.79198478 5.81661184]\n",
            " [3.80004873 5.8545897 ]]\n",
            "biases of hidden layers:\n",
            " [[-5.82020057 -2.46277158]]\n",
            "weights of hidden layers:\n",
            " [[-8.32186051]\n",
            " [ 7.66063503]]\n",
            "biases:\n",
            " [[-3.45550373]]\n",
            "output:\n",
            " [[0.05322146]\n",
            " [0.95171535]\n",
            " [0.95160449]\n",
            " [0.05175396]]\n"
          ]
        }
      ],
      "source": [
        "import numpy as np\n",
        "\n",
        "def sigmoid(x):\n",
        "    return 1 / (1 + np.exp(-x))\n",
        "\n",
        "def sigmoid_derivative(x):\n",
        "    return x * (1 - x)\n",
        "\n",
        "X = np.array([[0, 0], [0, 1], [1, 0], [1, 1]])\n",
        "y = np.array([[0], [1], [1], [0]])\n",
        "\n",
        "input_layer_neurons = X.shape[1]\n",
        "hidden_layer_neurons = 2\n",
        "output_neurons = 1\n",
        "\n",
        "np.random.seed(42)\n",
        "hidden_weights = np.random.uniform(size=(input_layer_neurons, hidden_layer_neurons))\n",
        "hidden_bias = np.random.uniform(size=(1, hidden_layer_neurons))\n",
        "output_weights = np.random.uniform(size=(hidden_layer_neurons, output_neurons))\n",
        "output_bias = np.random.uniform(size=(1, output_neurons))\n",
        "\n",
        "learning_rate = 0.1\n",
        "epochs = 10000\n",
        "\n",
        "for _ in range(epochs):\n",
        "    hidden_layer_activation = np.dot(X, hidden_weights) + hidden_bias\n",
        "    hidden_layer_output = sigmoid(hidden_layer_activation)\n",
        "\n",
        "    output_layer_activation = np.dot(hidden_layer_output, output_weights) + output_bias\n",
        "    predicted_output = sigmoid(output_layer_activation)\n",
        "\n",
        "    error = y - predicted_output\n",
        "\n",
        "    d_predicted_output = error * sigmoid_derivative(predicted_output)\n",
        "    error_hidden_layer = d_predicted_output.dot(output_weights.T)\n",
        "    d_hidden_layer = error_hidden_layer * sigmoid_derivative(hidden_layer_output)\n",
        "\n",
        "    output_weights += hidden_layer_output.T.dot(d_predicted_output) * learning_rate\n",
        "    output_bias += np.sum(d_predicted_output, axis=0, keepdims=True) * learning_rate\n",
        "    hidden_weights += X.T.dot(d_hidden_layer) * learning_rate\n",
        "    hidden_bias += np.sum(d_hidden_layer, axis=0, keepdims=True) * learning_rate\n",
        "\n",
        "print(\"weights of hidden layers:\\n\", hidden_weights)\n",
        "print(\"biases of hidden layers:\\n\", hidden_bias)\n",
        "print(\"weights of hidden layers:\\n\", output_weights)\n",
        "print(\"biases:\\n\", output_bias)\n",
        "print(\"output:\\n\", predicted_output)\n"
      ]
    },
    {
      "cell_type": "markdown",
      "source": [
        "PART 2"
      ],
      "metadata": {
        "id": "m5aSwD-5pjIL"
      }
    },
    {
      "cell_type": "code",
      "source": [
        "import tensorflow as tf\n",
        "from tensorflow.keras.models import Sequential\n",
        "from tensorflow.keras.layers import Dense\n",
        "import numpy as np\n",
        "\n",
        "X = np.array([[0, 0], [0, 1], [1, 0], [1, 1]])\n",
        "y = np.array([[0], [1], [1], [0]])\n",
        "\n",
        "model = Sequential()\n",
        "model.add(Dense(2, input_dim=2, activation='sigmoid'))\n",
        "model.add(Dense(1, activation='sigmoid'))\n",
        "\n",
        "model.compile(loss='mean_squared_error', optimizer='adam', metrics=['binary_accuracy'])\n",
        "\n",
        "model.fit(X, y, epochs=10000, verbose=0)\n",
        "\n",
        "loss, accuracy = model.evaluate(X, y)\n",
        "print(\"accuracy : \", accuracy)\n",
        "\n",
        "predictions = model.predict(X)\n",
        "print(\"predictions : \\n\", predictions)\n"
      ],
      "metadata": {
        "colab": {
          "base_uri": "https://localhost:8080/"
        },
        "id": "xDgFsCnkpkvl",
        "outputId": "d07070ad-4533-41b2-fb17-4ed09bc03fb0"
      },
      "execution_count": 3,
      "outputs": [
        {
          "output_type": "stream",
          "name": "stdout",
          "text": [
            "1/1 [==============================] - 0s 229ms/step - loss: 0.0021 - binary_accuracy: 1.0000\n",
            "accuracy :  1.0\n",
            "1/1 [==============================] - 0s 87ms/step\n",
            "predictions : \n",
            " [[0.04583393]\n",
            " [0.95738906]\n",
            " [0.9502024 ]\n",
            " [0.04369954]]\n"
          ]
        }
      ]
    }
  ]
}